{
 "cells": [
  {
   "cell_type": "code",
   "execution_count": 2,
   "id": "5efa924b",
   "metadata": {},
   "outputs": [],
   "source": [
    "import requests as req"
   ]
  },
  {
   "cell_type": "code",
   "execution_count": 25,
   "id": "f161e4df",
   "metadata": {},
   "outputs": [],
   "source": [
    "import base64\n",
    "from pydub import AudioSegment\n",
    "import io\n",
    "\n",
    "def save_audio_data_to_mp3(data, output_filename=\"output.mp3\"):\n",
    "    \"\"\"\n",
    "    Giải mã dữ liệu audio từ cấu trúc JSON và lưu thành file MP3.\n",
    "\n",
    "    Args:\n",
    "        data (dict): Đối tượng JSON chứa dữ liệu audio.\n",
    "        output_filename (str): Tên file MP3 đầu ra.\n",
    "    \"\"\"\n",
    "    try:\n",
    "        # 1. Trích xuất dữ liệu Base64 và thông tin audio\n",
    "        audio_part = data['candidates'][0]['content']['parts'][0]['inlineData']\n",
    "        base64_data = audio_part['data']\n",
    "        mime_type = audio_part['mimeType'] # e.g., 'audio/L16;codec=pcm;rate=24000'\n",
    "\n",
    "        # Kiểm tra xem có dữ liệu để xử lý không\n",
    "        if not base64_data:\n",
    "            print(\"Lỗi: Dữ liệu audio trống.\")\n",
    "            return\n",
    "\n",
    "        # 2. Giải mã Base64 để lấy dữ liệu audio thô (raw bytes)\n",
    "        raw_audio_data = base64.b64decode(base64_data)\n",
    "\n",
    "        # 3. Phân tích thông tin từ mimeType để cấu hình pydub\n",
    "        # Giả định định dạng là PCM 16-bit (2 bytes) và 1 kênh (mono)\n",
    "        sample_rate = int(mime_type.split('rate=')[1])\n",
    "        sample_width = 2  # 16 bits = 2 bytes\n",
    "        channels = 1      # Mono\n",
    "\n",
    "        # 4. Tạo một đối tượng AudioSegment từ dữ liệu thô\n",
    "        audio_segment = AudioSegment(\n",
    "            data=raw_audio_data,\n",
    "            sample_width=sample_width,\n",
    "            frame_rate=sample_rate,\n",
    "            channels=channels\n",
    "        )\n",
    "\n",
    "        # 5. Xuất file MP3\n",
    "        print(f\"Đang xuất file âm thanh tới '{output_filename}'...\")\n",
    "        audio_segment.export(output_filename, format=\"wav\")\n",
    "        print(\"Hoàn thành! File đã được lưu thành công.\")\n",
    "\n",
    "    except (KeyError, IndexError) as e:\n",
    "        print(f\"Lỗi: Cấu trúc JSON không hợp lệ hoặc không tìm thấy dữ liệu audio. Chi tiết: {e}\")\n",
    "    except Exception as e:\n",
    "        print(f\"Đã xảy ra lỗi không mong muốn: {e}\")\n",
    "        print(\"Vui lòng đảm bảo bạn đã cài đặt 'pydub' và 'ffmpeg'.\")\n",
    "        print(\"Để cài đặt ffmpeg, hãy truy cập: https://ffmpeg.org/download.html\")"
   ]
  },
  {
   "cell_type": "code",
   "execution_count": null,
   "id": "4886197d",
   "metadata": {},
   "outputs": [],
   "source": [
    "from typing import List, Dict\n",
    "import json\n",
    "def create_conversation(content: List[Dict[str, str]]) -> None:\n",
    "    api_url = \"https://api.thucchien.ai/gemini/v1beta/models/gemini-2.5-flash-preview-tts:generateContent\"\n",
    "    headers = {\n",
    "        'x-goog-api-key': 'sk-_L5p4n0oPzdMhkMFZh8clA',\n",
    "        'Content-Type': 'application/json'\n",
    "    }\n",
    "\n",
    "    data = json.dumps(\"\"\"{\n",
    "    \"contents\": {content},\n",
    "    \"generationConfig\": {\n",
    "        \"responseModalities\": [\"AUDIO\"],\n",
    "        \"speechConfig\": {\n",
    "            \"voiceConfig\": {\n",
    "            \"prebuiltVoiceConfig\": {\n",
    "                \"voiceName\": \"Kore\"\n",
    "            }\n",
    "            }\n",
    "        }\n",
    "    }\n",
    "    }\"\"\".format(content=content))\n",
    "\n",
    "    res = req.post(api_url, data=data, headers=headers, stream=True)\n",
    "\n",
    "    save_audio_data_to_mp3(res.json(), \"out.wav\")\n",
    "\n",
    "\n",
    "    "
   ]
  },
  {
   "cell_type": "code",
   "execution_count": null,
   "id": "6556f298",
   "metadata": {},
   "outputs": [],
   "source": [
    "create_conversation"
   ]
  }
 ],
 "metadata": {
  "kernelspec": {
   "display_name": "Python 3",
   "language": "python",
   "name": "python3"
  },
  "language_info": {
   "codemirror_mode": {
    "name": "ipython",
    "version": 3
   },
   "file_extension": ".py",
   "mimetype": "text/x-python",
   "name": "python",
   "nbconvert_exporter": "python",
   "pygments_lexer": "ipython3",
   "version": "3.12.1"
  }
 },
 "nbformat": 4,
 "nbformat_minor": 5
}
